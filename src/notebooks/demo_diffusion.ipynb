import numpy as np
import matplotlib.pyplot as plt
from src.model.electrochem import build_laplacian, diffusion_rhs

# Setup domain
N = 50
L = 1.0
particles = np.linspace(0, L, N)
h = 0.1
D = 1e-2

# Initial concentration
c = np.ones(N) * 0.5
c[0] = 1.0  # surface high concentration
c[-1] = 0.0 # sink at far end

# Build Laplacian
Lap = build_laplacian(particles, h)

# Time stepping
dt = 0.01
steps = 200
history = []

for n in range(steps):
    dc = diffusion_rhs(c, D, Lap)
    c += dt * dc
    history.append(c.copy())

# Plot final profile
plt.plot(particles, c, label="Final concentration")
plt.xlabel("x (normalized)")
plt.ylabel("c")
plt.legend()
plt.show()

